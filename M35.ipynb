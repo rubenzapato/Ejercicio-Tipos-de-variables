{
 "cells": [
  {
   "cell_type": "markdown",
   "metadata": {},
   "source": [
    "##Modulo 35 "
   ]
  },
  {
   "cell_type": "code",
   "execution_count": 29,
   "metadata": {},
   "outputs": [
    {
     "name": "stdout",
     "output_type": "stream",
     "text": [
      "4\n"
     ]
    }
   ],
   "source": [
    "operador=input(\"Ingrese el tipo de operación que desee(+,-,/,*,**): \")\n",
    "args_str=input(\"Ingrese los números:   \")\n",
    "new_args=[]\n",
    "for i in args_str: \n",
    "    if i != \"(\" and  i != \")\" and i != \"[\" and i != \"]\" and i != \"{\" and i != \"}\" and i != \",\": \n",
    "        new_args.append(int(i))\n",
    "\n",
    "if operador == \"+\": \n",
    "    print(sum(new_args))\n",
    "elif operador == \"-\": \n",
    "    print(new_args[0]-sum(new_args[1:]))\n",
    "elif operador ==  \"/\": \n",
    "    resultado= new_args[0]\n",
    "    for i in new_args[1:]: \n",
    "        resultado /= i\n",
    "    print(resultado)\n",
    "elif operador == \"*\": \n",
    "    resultado= 1\n",
    "    for ii in new_args: \n",
    "        resultado *= ii\n",
    "    print(resultado)    \n",
    "elif operador == \"**\":\n",
    "    resultado = new_args[0]\n",
    "    for i in new_args[1:]: \n",
    "        resultado = resultado**i\n",
    "    print(resultado)\n"
   ]
  }
 ],
 "metadata": {
  "kernelspec": {
   "display_name": "Python 3",
   "language": "python",
   "name": "python3"
  },
  "language_info": {
   "codemirror_mode": {
    "name": "ipython",
    "version": 3
   },
   "file_extension": ".py",
   "mimetype": "text/x-python",
   "name": "python",
   "nbconvert_exporter": "python",
   "pygments_lexer": "ipython3",
   "version": "3.12.0"
  }
 },
 "nbformat": 4,
 "nbformat_minor": 2
}
