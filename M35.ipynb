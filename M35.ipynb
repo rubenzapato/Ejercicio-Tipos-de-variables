{
 "cells": [
  {
   "cell_type": "markdown",
   "metadata": {},
   "source": [
    "##Modulo 35 "
   ]
  },
  {
   "cell_type": "code",
   "execution_count": 5,
   "metadata": {},
   "outputs": [
    {
     "name": "stdout",
     "output_type": "stream",
     "text": [
      "-2\n"
     ]
    }
   ],
   "source": [
    "operador=input(\"Ingrese el tipo de operación que desee(+,-,/,*,**): \")\n",
    "numero1, numero2=input(\"Ingrese los 2 números separados por una coma\").split(\",\")\n",
    "if operador == \"+\": \n",
    "    print(int(numero1)+int(numero2))\n",
    "elif operador == \"-\": \n",
    "    print(int(numero1)-int(numero2))\n",
    "elif operador ==  \"/\": \n",
    "    print(int(numero1)/int(numero2))\n",
    "elif operador == \"*\": \n",
    "    print(int(numero1)*int(numero2))\n",
    "elif operador == \"**\":\n",
    "    print(int(numero1)**int(numero2))"
   ]
  }
 ],
 "metadata": {
  "kernelspec": {
   "display_name": "Python 3",
   "language": "python",
   "name": "python3"
  },
  "language_info": {
   "codemirror_mode": {
    "name": "ipython",
    "version": 3
   },
   "file_extension": ".py",
   "mimetype": "text/x-python",
   "name": "python",
   "nbconvert_exporter": "python",
   "pygments_lexer": "ipython3",
   "version": "3.12.0"
  }
 },
 "nbformat": 4,
 "nbformat_minor": 2
}
